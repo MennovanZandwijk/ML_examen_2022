{
 "cells": [
  {
   "cell_type": "code",
   "execution_count": 1,
   "metadata": {},
   "outputs": [],
   "source": [
    "import sys\n",
    "\n",
    "sys.path.insert(0, \"..\")\n",
    "from src.settings import StyleSettings\n",
    "from src.data.data_tools import StyleDataset\n",
    "import numpy as np\n",
    "import seaborn as sns\n",
    "import math\n"
   ]
  },
  {
   "cell_type": "markdown",
   "metadata": {},
   "source": [
    "# Load the data"
   ]
  },
  {
   "cell_type": "code",
   "execution_count": 2,
   "metadata": {},
   "outputs": [],
   "source": [
    "settings = StyleSettings()\n",
    "traindataset = StyleDataset([settings.trainpath])\n",
    "testdataset = StyleDataset([settings.testpath])\n"
   ]
  },
  {
   "cell_type": "markdown",
   "metadata": {},
   "source": [
    "We have 419 batches in the dataset"
   ]
  },
  {
   "cell_type": "code",
   "execution_count": 3,
   "metadata": {},
   "outputs": [
    {
     "data": {
      "text/plain": [
       "419"
      ]
     },
     "execution_count": 3,
     "metadata": {},
     "output_type": "execute_result"
    }
   ],
   "source": [
    "len(traindataset) // 32\n"
   ]
  },
  {
   "cell_type": "code",
   "execution_count": 4,
   "metadata": {},
   "outputs": [
    {
     "data": {
      "text/plain": [
       "('Lace is an openwork fabric , patterned with open holes in the work , made by machine or by hand.',\n",
       " 'wiki')"
      ]
     },
     "execution_count": 4,
     "metadata": {},
     "output_type": "execute_result"
    }
   ],
   "source": [
    "x, y = traindataset[42]\n",
    "x, y\n"
   ]
  },
  {
   "cell_type": "markdown",
   "metadata": {},
   "source": [
    "Every batch is a `Tuple[str, str]` of a sentence and a label. We can see this is a classification task.\n",
    "The task is, to classify sentences in four categories.\n",
    "Lets build a vocabulary by copy-pasting the code we used before"
   ]
  },
  {
   "cell_type": "code",
   "execution_count": 5,
   "metadata": {},
   "outputs": [
    {
     "name": "stderr",
     "output_type": "stream",
     "text": [
      "2022-07-04 17:44:57.529 | INFO     | src.models.tokenizer:build_vocab:27 - Found 19306 tokens\n"
     ]
    },
    {
     "data": {
      "text/plain": [
       "19308"
      ]
     },
     "execution_count": 5,
     "metadata": {},
     "output_type": "execute_result"
    }
   ],
   "source": [
    "from src.models import tokenizer\n",
    "\n",
    "corpus = []\n",
    "for i in range(len(traindataset)):\n",
    "    x = tokenizer.clean(traindataset[i][0])\n",
    "    corpus.append(x)\n",
    "v = tokenizer.build_vocab(corpus, max=20000)\n",
    "len(v)\n"
   ]
  },
  {
   "cell_type": "markdown",
   "metadata": {},
   "source": [
    "We need to cast the labels to an integers. You can use this dictionary to do so:"
   ]
  },
  {
   "cell_type": "code",
   "execution_count": 6,
   "metadata": {},
   "outputs": [
    {
     "data": {
      "text/plain": [
       "2"
      ]
     },
     "execution_count": 6,
     "metadata": {},
     "output_type": "execute_result"
    }
   ],
   "source": [
    "d = {\"humor\": 0, \"reuters\": 1, \"wiki\": 2, \"proverbs\": 3}\n",
    "d[y]\n"
   ]
  },
  {
   "cell_type": "markdown",
   "metadata": {},
   "source": [
    "# Question 1\n",
    "Figure out, for every class, what accuracy you should expect if the model would guess blind on the train set"
   ]
  },
  {
   "cell_type": "code",
   "execution_count": 7,
   "metadata": {},
   "outputs": [
    {
     "data": {
      "text/plain": [
       "{'humor': 4213, 'wiki': 4181, 'proverbs': 831, 'reuters': 4186}"
      ]
     },
     "execution_count": 7,
     "metadata": {},
     "output_type": "execute_result"
    }
   ],
   "source": [
    "#Query 1\n",
    "import collections\n",
    "count_labels = collections.Counter([traindataset[i][1] for i in range(len(traindataset))])\n",
    "{v: count_labels[v] for v in count_labels}\n"
   ]
  },
  {
   "cell_type": "code",
   "execution_count": 8,
   "metadata": {},
   "outputs": [
    {
     "data": {
      "text/plain": [
       "{'humor': 0.31414510476474533,\n",
       " 'wiki': 0.31175900380284843,\n",
       " 'proverbs': 0.06196405935426143,\n",
       " 'reuters': 0.3121318320781448}"
      ]
     },
     "execution_count": 8,
     "metadata": {},
     "output_type": "execute_result"
    }
   ],
   "source": [
    "#Query 2\n",
    "import collections\n",
    "count_labels = collections.Counter([traindataset[i][1] for i in range(len(traindataset))])\n",
    "{v: count_labels[v] / len(traindataset) for v in count_labels}"
   ]
  },
  {
   "cell_type": "markdown",
   "metadata": {},
   "source": [
    "Reflect on what you see. What does this mean? What implications does this have? Why is that good/bad?\n",
    "Are there things down the line that could cause a problem?"
   ]
  },
  {
   "cell_type": "markdown",
   "metadata": {},
   "source": [
    "## <span style=\"color:Green\">*Toelichting student*</span> \n",
    "\n",
    "Op basis van de uitkomsten van query 1 blijkt dat de categorieën 'humor', 'wiki' en 'reuters' in de traindataset een nagenoeg gelijk aantal observaties bevat. De categorie 'proverbs' bevat daarentegen een aanzienlijk lager aantal observaties. \n",
    "\n",
    "Middels query 2 is per categorie berekend hoe groot de kans is dat een willekeurige observatie toebehoort tot een specifieke categorie. Conform de uitkomsten van query 1 blijkt dat de kans dat een observatie afkomstig is van de categorieën 'humor'(31,4%), 'wiki'(31,2%) en 'reuters'(31,2%) bijna gelijk is, terwijl de kans dat een willekeurige observatie toebehoort tot de categorie 'proverbs' met 6,2% veel lager is. Bij een normale verdeling van de data zou iedere categorie een gelijke kans hebben (namelijk 25%) dat een willekeurige observatie van een specifieke categorie afkomstig is. \n",
    "\n",
    "In dit geval bevat de traindataset geen normale verdeling. Een nadeel hiervan is dat het model voor de categorie 'Proverbs' minder voorbeelden beschikbaar heeft om op te trainen. Hierdoor ontstaat het risico dat, gezien het beperkte aantal observaties, het model minder goed in staat is om 'proverbs' zinnen te herkennen waardoor het model minder accuraat wordt. "
   ]
  },
  {
   "cell_type": "markdown",
   "metadata": {},
   "source": [
    "# Question 2 : Implement a preprocessor\n",
    "\n",
    "We can inherit from `tokenizer.Preprocessor`\n",
    "Only thing we need to adjust is the `cast_label` function.\n",
    " \n",
    "- create a StylePreprocessor class\n",
    "- inherit from Preprocessor\n",
    "- create a new cast_label function for this dataset"
   ]
  },
  {
   "cell_type": "code",
   "execution_count": 9,
   "metadata": {},
   "outputs": [],
   "source": [
    "class StylePreprocessor(tokenizer.Preprocessor):\n",
    "    def cast_label(self, label: str) -> int:\n",
    "        if label in d.keys():\n",
    "            return d[label]"
   ]
  },
  {
   "cell_type": "markdown",
   "metadata": {},
   "source": [
    "To test the preprocessor:"
   ]
  },
  {
   "cell_type": "code",
   "execution_count": 10,
   "metadata": {},
   "outputs": [
    {
     "data": {
      "text/plain": [
       "(tensor([[4929,  854,   32,   15,  499,   21, 8496,  890]], dtype=torch.int32),\n",
       " tensor([2]))"
      ]
     },
     "execution_count": 10,
     "metadata": {},
     "output_type": "execute_result"
    }
   ],
   "source": [
    "preprocessor = StylePreprocessor(max=100, vocab=v, clean=tokenizer.clean)\n",
    "preprocessor([(x, y)])\n"
   ]
  },
  {
   "cell_type": "markdown",
   "metadata": {},
   "source": [
    "# Set up the model\n",
    "We can re-use the BaseDatastreamer"
   ]
  },
  {
   "cell_type": "code",
   "execution_count": 11,
   "metadata": {},
   "outputs": [],
   "source": [
    "from src.data import data_tools\n",
    "\n",
    "trainstreamer = data_tools.BaseDatastreamer(\n",
    "    dataset=traindataset, batchsize=32, preprocessor=preprocessor\n",
    ").stream()\n",
    "teststreamer = data_tools.BaseDatastreamer(\n",
    "    dataset=testdataset, batchsize=32, preprocessor=preprocessor\n",
    ").stream()\n"
   ]
  },
  {
   "cell_type": "code",
   "execution_count": 12,
   "metadata": {},
   "outputs": [
    {
     "data": {
      "text/plain": [
       "(torch.Size([32, 29]),\n",
       " tensor([2, 0, 0, 2, 0, 2, 0, 2, 1, 2, 0, 2, 2, 1, 2, 2, 1, 3, 0, 2, 2, 0, 0, 1,\n",
       "         0, 2, 0, 0, 2, 0, 1, 1]))"
      ]
     },
     "execution_count": 12,
     "metadata": {},
     "output_type": "execute_result"
    }
   ],
   "source": [
    "x, y = next(trainstreamer)\n",
    "x.shape, y\n"
   ]
  },
  {
   "cell_type": "markdown",
   "metadata": {},
   "source": [
    "## Question 3 : Metrics, loss\n",
    "Select proper metrics and a loss function.\n",
    "\n",
    "Bonus: implement an additional metric function that is relevant for this case."
   ]
  },
  {
   "cell_type": "code",
   "execution_count": 13,
   "metadata": {},
   "outputs": [],
   "source": [
    "from src.models import metrics\n",
    "import torch\n",
    "\n",
    "metrics = [metrics.F1Score(), metrics.Accuracy()] ## Op basis van theorie beste metrics + onderbouwing toevoegen.\n",
    "loss_fn = torch.nn.CrossEntropyLoss()"
   ]
  },
  {
   "cell_type": "markdown",
   "metadata": {},
   "source": [
    "## <span style=\"color:Green\">*Toelichting student*</span> \n",
    "\n",
    "Op te bepalen welke metrices het meest geschikt zijn voor deze NLP-dataset, heb ik op internet research gedaan. Op de website van [Towards data science](https://towardsdatascience.com/the-most-common-evaluation-metrics-in-nlp-ced6a763ac8b) heb ik een artikel gevonden waarin wordt beschreven dat onder andere de metrices 'Accuracy', 'Precision', 'Recall' en 'F1 Score' geschikt zijn voor het evalueren van de werking van een NLP-model. Ik het gekozen voor de metrices 'Accuracy' en 'F1 Score'. De 'Accuracy' metrics is tijdens de lessen veelvuldig gebruikt en geeft goed inzicht in de presaties van een model. De F1 score vind ik een interessante metrics omdat hierin de 'Precision' en 'Recall' gecombineerd zijn. Daarnaast heb ik in een eerder noteboek gelezen dat de F1-score bij uitstek geschikt is voor ongebalanceerde datasets. \n",
    "\n",
    "Aangezien de opdracht een classificatie vraagstuk betreft, heb ik gekozen om de 'CrossEntropyLoss' als loss function te implementeren. Deze functie is namelijk zeer geschikt voor classificatie vraagstukken. "
   ]
  },
  {
   "cell_type": "markdown",
   "metadata": {},
   "source": [
    "## Question 4 : Basemodel\n",
    "Create a base model. It does not need to be naive; you could re-use the\n",
    "NLP models we used for the IMDB.\n",
    "\n",
    "I suggest to start with a hidden size of about 128.\n",
    "Use a config dictionary, or a gin file, both are fine.\n",
    "\n",
    "Bonus points if you create a Trax model in src.models, and even more if you add a trax training loop."
   ]
  },
  {
   "cell_type": "code",
   "execution_count": 14,
   "metadata": {},
   "outputs": [],
   "source": [
    "log_dir = settings.log_dir\n",
    "from src.models import rnn\n",
    "\n",
    "config = {\n",
    "    \"vocab\": len(v),\n",
    "    \"hidden_size\": 128,\n",
    "    \"num_layers\": 3,\n",
    "    \"dropout\": 0.1,\n",
    "    \"output_size\": 4,\n",
    "}\n",
    "\n",
    "model = rnn.NLPmodel(config)\n"
   ]
  },
  {
   "cell_type": "markdown",
   "metadata": {},
   "source": [
    "Set up the trainloop.\n",
    "\n",
    "- Give the lenght of the traindataset, how many batches of 32 can you get out of it?\n",
    "- If you take a short amount of train_steps (eg 25) for every epoch, how many epochs do you need to cover the complete dataset?\n",
    "- What amount of epochs do you need to run the loop with trainsteps=25 to cover the complete traindataset once? \n",
    "- answer the questions above, and pick a reasonable epoch lenght\n",
    "\n",
    "Start with a default learning_rate of 1e-3 and an Adam optimizer."
   ]
  },
  {
   "cell_type": "markdown",
   "metadata": {},
   "source": [
    "## <span style=\"color:Green\">*Toelichting student*</span> "
   ]
  },
  {
   "cell_type": "code",
   "execution_count": 15,
   "metadata": {},
   "outputs": [
    {
     "name": "stdout",
     "output_type": "stream",
     "text": [
      "1. De traindataset bevat 13411 observaties. Op basis van een batchsize van 32 observaties is het mogelijk om 419 gehele batches te creëren, waarna er nog 3 losse observaties resteren. Om alle observaties te batchen zijn dus 420 batches benodigd.\n",
      "\n",
      "2. De gehele dataset (train- en testdataset) bevat 16764 observaties. Op basis van een batchsize met 32 observaties en een train_step van 25 observaties, zijn 21 epochs benodigd om alle observaties door het model te laten analyseren. \n",
      "\n",
      "3. De traindataset bevat 13411 observaties. Op basis van een batchsize met 32 observaties en een train_step van 25 observaties, zijn 17 epochs benodigd om alle observaties door het model te laten analyseren. \n",
      "\n",
      "4. Doordat tijdens het trainen van het model enkel de observaties afkomstig uit de traindataset worden geanalyseerd, zijn 17 epochs voldoende om alle observaties door het model te laten analyseren. Tijdens onderdeel 6 'Tune the model' zal onder andere met aantal epochs worden geëxperimenteerd.\n"
     ]
    }
   ],
   "source": [
    "\n",
    "print(f'''1. De traindataset bevat {len(traindataset)} observaties. Op basis van een batchsize van {32} observaties is het mogelijk om {round(len(traindataset)/32)} gehele batches te creëren, waarna er nog {len(traindataset)-(32*(round(len(traindataset)/32)))} losse observaties resteren. Om alle observaties te batchen zijn dus {math.ceil(len(traindataset)/32)} batches benodigd.''')\n",
    "print()\n",
    "print(f'''2. De gehele dataset (train- en testdataset) bevat {(len(traindataset) + len(testdataset))} observaties. Op basis van een batchsize met 32 observaties en een train_step van 25 observaties, zijn {math.ceil((len(traindataset) + len(testdataset))/(32*25))} epochs benodigd om alle observaties door het model te laten analyseren. ''')\n",
    "print()\n",
    "print(f'''3. De traindataset bevat {len(traindataset)} observaties. Op basis van een batchsize met 32 observaties en een train_step van 25 observaties, zijn {math.ceil(len(traindataset)/(32*25))} epochs benodigd om alle observaties door het model te laten analyseren. ''')\n",
    "print()\n",
    "print(f'''4. Doordat tijdens het trainen van het model enkel de observaties afkomstig uit de traindataset worden geanalyseerd, zijn {math.ceil(len(traindataset)/(32*25))} epochs voldoende om alle observaties door het model te laten analyseren. Tijdens onderdeel 6 'Tune the model' zal onder andere met aantal epochs worden geëxperimenteerd.''')"
   ]
  },
  {
   "cell_type": "code",
   "execution_count": 16,
   "metadata": {},
   "outputs": [
    {
     "name": "stderr",
     "output_type": "stream",
     "text": [
      "2022-07-04 17:44:59.958588: W tensorflow/stream_executor/platform/default/dso_loader.cc:64] Could not load dynamic library 'libcudart.so.11.0'; dlerror: libcudart.so.11.0: cannot open shared object file: No such file or directory\n",
      "2022-07-04 17:44:59.958652: I tensorflow/stream_executor/cuda/cudart_stub.cc:29] Ignore above cudart dlerror if you do not have a GPU set up on your machine.\n",
      "2022-07-04 17:45:02.530 | INFO     | src.data.data_tools:dir_add_timestamp:67 - Logging to ../tune/20220704-1745\n",
      "100%|██████████| 25/25 [00:04<00:00,  6.06it/s]\n",
      "2022-07-04 17:45:07.734 | INFO     | src.training.train_model:trainloop:164 - Epoch 0 train 1.2929 test 1.2418 metric ['0.2334', '0.4113']\n",
      "100%|██████████| 25/25 [00:03<00:00,  7.05it/s]\n",
      "2022-07-04 17:45:11.917 | INFO     | src.training.train_model:trainloop:164 - Epoch 1 train 1.2431 test 1.2336 metric ['0.2295', '0.3950']\n",
      "100%|██████████| 25/25 [00:02<00:00, 10.19it/s]\n",
      "2022-07-04 17:45:15.193 | INFO     | src.training.train_model:trainloop:164 - Epoch 2 train 1.1894 test 1.1283 metric ['0.3314', '0.4825']\n",
      "100%|██████████| 25/25 [00:02<00:00, 11.68it/s]\n",
      "2022-07-04 17:45:18.009 | INFO     | src.training.train_model:trainloop:164 - Epoch 3 train 1.0943 test 0.9748 metric ['0.3633', '0.5575']\n",
      "100%|██████████| 25/25 [00:02<00:00, 10.69it/s]\n",
      "2022-07-04 17:45:21.038 | INFO     | src.training.train_model:trainloop:164 - Epoch 4 train 0.9152 test 0.9218 metric ['0.3630', '0.5587']\n",
      "100%|██████████| 25/25 [00:02<00:00, 10.68it/s]\n",
      "2022-07-04 17:45:23.997 | INFO     | src.training.train_model:trainloop:164 - Epoch 5 train 0.8484 test 0.7867 metric ['0.5414', '0.6750']\n",
      "100%|██████████| 25/25 [00:02<00:00, 10.39it/s]\n",
      "2022-07-04 17:45:27.049 | INFO     | src.training.train_model:trainloop:164 - Epoch 6 train 0.7591 test 0.6652 metric ['0.5899', '0.7488']\n",
      "100%|██████████| 25/25 [00:02<00:00, 10.41it/s]\n",
      "2022-07-04 17:45:30.210 | INFO     | src.training.train_model:trainloop:164 - Epoch 7 train 0.6830 test 0.5803 metric ['0.6455', '0.7975']\n",
      "100%|██████████| 25/25 [00:01<00:00, 12.66it/s]\n",
      "2022-07-04 17:45:32.800 | INFO     | src.training.train_model:trainloop:164 - Epoch 8 train 0.5916 test 0.5704 metric ['0.6599', '0.7987']\n",
      "100%|██████████| 25/25 [00:01<00:00, 12.59it/s]\n",
      "2022-07-04 17:45:35.544 | INFO     | src.training.train_model:trainloop:164 - Epoch 9 train 0.5565 test 0.5401 metric ['0.6642', '0.8187']\n",
      "100%|██████████| 25/25 [00:02<00:00, 11.23it/s]\n",
      "2022-07-04 17:45:38.452 | INFO     | src.training.train_model:trainloop:164 - Epoch 10 train 0.5190 test 0.4607 metric ['0.6671', '0.8325']\n",
      "100%|██████████| 25/25 [00:02<00:00, 11.23it/s]\n",
      "2022-07-04 17:45:41.323 | INFO     | src.training.train_model:trainloop:164 - Epoch 11 train 0.5136 test 0.5356 metric ['0.7346', '0.8175']\n",
      "100%|██████████| 25/25 [00:02<00:00, 11.33it/s]\n",
      "2022-07-04 17:45:44.180 | INFO     | src.training.train_model:trainloop:164 - Epoch 12 train 0.4853 test 0.4177 metric ['0.7310', '0.8575']\n",
      "100%|██████████| 25/25 [00:02<00:00, 11.51it/s]\n",
      "2022-07-04 17:45:46.948 | INFO     | src.training.train_model:trainloop:164 - Epoch 13 train 0.4674 test 0.3916 metric ['0.7171', '0.8650']\n",
      "100%|██████████| 25/25 [00:02<00:00, 12.44it/s]\n",
      "2022-07-04 17:45:49.580 | INFO     | src.training.train_model:trainloop:164 - Epoch 14 train 0.4951 test 0.4391 metric ['0.7631', '0.8475']\n",
      "100%|██████████| 25/25 [00:02<00:00, 11.35it/s]\n",
      "2022-07-04 17:45:52.447 | INFO     | src.training.train_model:trainloop:164 - Epoch 15 train 0.4790 test 0.4538 metric ['0.7170', '0.8413']\n",
      "100%|██████████| 25/25 [00:02<00:00, 10.55it/s]\n",
      "2022-07-04 17:45:55.443 | INFO     | src.training.train_model:trainloop:164 - Epoch 16 train 0.4249 test 0.4753 metric ['0.6596', '0.8175']\n",
      "100%|██████████| 17/17 [00:52<00:00,  3.11s/it]\n"
     ]
    }
   ],
   "source": [
    "from src.training import train_model\n",
    "\n",
    "model = train_model.trainloop(\n",
    "    epochs=17,\n",
    "    model=model,\n",
    "    metrics=metrics,\n",
    "    optimizer=torch.optim.Adam,\n",
    "    learning_rate=1e-3,\n",
    "    loss_fn=loss_fn,\n",
    "    train_dataloader=trainstreamer,\n",
    "    test_dataloader=teststreamer,\n",
    "    log_dir=log_dir,\n",
    "    train_steps=25,\n",
    "    eval_steps=25,\n",
    ")\n"
   ]
  },
  {
   "cell_type": "markdown",
   "metadata": {},
   "source": [
    "Save an image from the training in tensorboard in the `figures` folder.\n",
    "Explain what you are seeing."
   ]
  },
  {
   "cell_type": "markdown",
   "metadata": {},
   "source": [
    "## <span style=\"color:Green\">*Toelichting student*</span> \n",
    "\n",
    "In onderstaande visual is goed zichtbaar dat het model tot aan epoch 11 zich vlot blijft ontwikkelen, waarna de leersnelheid wat afvlakt. Op basis van uitkomsten zou ik echter wel middels een experiment proberen om het aantal epochs te vergroten om vast te stellen of het model daadwerkelijk is uitgeleerd of dat het model zich nog verder kan ontwikkelen.  \n",
    "\n",
    "<img src=\"../figures/TensorBoard.png\">"
   ]
  },
  {
   "cell_type": "markdown",
   "metadata": {},
   "source": [
    "# 5 Evaluate the basemodel\n",
    "Create a confusion matrix with the code below"
   ]
  },
  {
   "cell_type": "code",
   "execution_count": 17,
   "metadata": {},
   "outputs": [
    {
     "data": {
      "text/plain": [
       "[Text(0.5, 15.0, 'Predicted'), Text(33.0, 0.5, 'Target')]"
      ]
     },
     "execution_count": 17,
     "metadata": {},
     "output_type": "execute_result"
    },
    {
     "data": {
      "image/png": "[encoded data removed]",
      "text/plain": [
       "<Figure size 432x288 with 2 Axes>"
      ]
     },
     "metadata": {
      "needs_background": "light"
     },
     "output_type": "display_data"
    }
   ],
   "source": [
    "from sklearn.metrics import confusion_matrix\n",
    "\n",
    "y_true = []\n",
    "y_pred = []\n",
    "\n",
    "for _ in range(10):\n",
    "    X, y = next(teststreamer)\n",
    "    yhat = model(X)\n",
    "    yhat = yhat.argmax(dim=1)\n",
    "    y_pred.append(yhat.tolist())\n",
    "    y_true.append(y.tolist())\n",
    "\n",
    "yhat = [x for y in y_pred for x in y]\n",
    "y = [x for y in y_true for x in y]\n",
    "\n",
    "cfm = confusion_matrix(y, yhat)\n",
    "cfm_norm = cfm / np.sum(cfm, axis=1, keepdims=True)\n",
    "plot = sns.heatmap(cfm_norm, annot=cfm_norm, fmt=\".3f\")\n",
    "plot.set(xlabel=\"Predicted\", ylabel=\"Target\")\n"
   ]
  },
  {
   "cell_type": "markdown",
   "metadata": {},
   "source": [
    "Save this in the figures folder.\n",
    "Interpret this. \n",
    "\n",
    "- What is going on?\n",
    "- What is a good metric here?\n",
    "- how is your answer to Q1 relevant here?\n",
    "- Is there something you could do to fix/improve things, after you see these results?"
   ]
  },
  {
   "cell_type": "markdown",
   "metadata": {},
   "source": [
    "## <span style=\"color:Green\">*Toelichting student*</span> \n",
    "\n",
    "<img src=\"../figures/Confusion_Matrix.png\">\n",
    "\n",
    "1. In de bovenstaande matrix is weergegeven hoe goed het model presteert op de testdataset. Uit de matrix kan worden afgeleid dat het model observaties voor de categoriën 'humor'(0), 'reuters'(1) en 'wiki'(2) goed kan voorspellen. Dit blijkt uit de hoge accuracy scores van tussen de 81,0% en 98,9%. De categorie 'proverbs'(3) scoort met een accuracy van 68,8% een stuk lager. Uit de matrix blijkt dat een deel van 'proverbs' observaties zijn toegekend aan de categorie 'wiki', maar dat andersom hier slechts beperkt sprake van is. Een mogelijke verklaring hiervan betreft de ongelijke verdeling van de traindataset waardoor voor de categorie 'proverbs'(3) minder observaties beschikbaar zijn geweest om het model goed op te kunnen trainen.<br>\n",
    "\n",
    "2. In de huidige matrix wordt de accuracy per categorie weergegeven. Afhankelijk van de doelstelling van het classificatie vraagstuk bieden de metrices 'Precision' en 'Recall' goed inzicht in de prestaties van een model. Indien een balans wordt gezocht tussen de metrices 'Precision' en 'Recall' is de 'F1 Score' een goed alternatief omdat hierin de metrices 'Precision' en 'Recall' zijn gecombineerd. Daarnaast sluit de F1-score goed aan bij de ongebalanceerde dataset. (Bron: [Toward Data Science](https://towardsdatascience.com/confusion-matrix-un-confused-1ba98dee0d7f))<br>\n",
    "\n",
    "3. Zoals deels in antwoord 1 beschreven scoort het model op basis van de gebruikte parameters goed bij het identificeren van observaties die toebehoren tot de categoriën 0 t/m 2. Voor wat betreft categorie 3 scoort het model minder goed. Dit wordt vermoedelijk veroorzaakt doordat de trainingset minder observaties bevat voor de categorie 'proverbs'(3) dan voor de andere categorieën. Het model heeft hierdoor minder voorbeelden beschikbaar om karakteristieken te identificeren die toebehoren tot de observaties van categorie 'proverbs'(3).<br>\n",
    "\n",
    "4. De trainingsdataset in ongelijk verdeeld doordat het aantal observaties voor de categorie 'proverbs'(3) veel lager uitvalt dan het aantal observaties voor de overige drie categoriën. Een gelijk verdeelde dataset kan de prestaties van een model verbeteren. Om een gelijk verdeelde dataset te creëren zijn grofweg twee opties mogelijk:\n",
    "* Undersampling: voor de categoriën met veel observaties wordt slechts een deel van de observaties gesampled zodat het aantal observaties per categorie in de train- en testdataset nagenoeg gelijk is.\n",
    "* Oversampling: voor de categorie met weinig observaties worden observaties gedupliceerd zodat een gelijk verdeelde dataset ontstaat. <br>\n",
    "\n",
    "In onderstaande afbeelding is het principe van oversampling en undersampling weergegeven.\n",
    "\n",
    "<img src=\"https://miro.medium.com/max/1400/1*P93SeDGPGw0MhwvCcvVcXA.png\" />\n",
    "\n",
    "(Bron: [Toward Data Science](https://towardsdatascience.com/having-an-imbalanced-dataset-here-is-how-you-can-solve-it-1640568947eb))\n",
    "\n",
    "\n"
   ]
  },
  {
   "cell_type": "markdown",
   "metadata": {},
   "source": [
    "# 6 Tune the model\n",
    "Don't overdo this.\n",
    "More is not better.\n",
    "\n",
    "Bonus points for things like:\n",
    "- Attention layers\n",
    "- Trax architecture including a functioning training loop\n",
    "\n",
    "Keep it small! It's better to present 2 or 3 sane experiments that are structured and thought trough, than 25 random guesses. You can test more, but select 2 or 3 of the best alternatives you researched, with a rationale why this works better.\n",
    "\n",
    "Keep it concise; explain:\n",
    "- what you changed\n",
    "- why you thought that was a good idea  \n",
    "- what the impact was (visualise or numeric)\n",
    "- explain the impact\n",
    "\n",
    "You dont need to get a perfect score; curiousity driven research that fails is fine.\n",
    "The insight into what is happening is more important than the quantity.\n",
    "\n",
    "Keep logs of your settings;\n",
    "either use gin, or save configs, or both :)\n",
    "Store images in the `figures` folder."
   ]
  },
  {
   "cell_type": "markdown",
   "metadata": {},
   "source": [
    "## <span style=\"color:Green\">*Toelichting student*</span> \n",
    "\n",
    "Voor het tunen van het RNN-model (zonder attention layer) heb ik een zestal experimenten uitgevoerd met in totaal 47 trainsessies om het model te verbeteren en om inzicht te krijgen wat de impact van bepaalde variabelen zijn op de werking van het model. In deze eindopdracht zijn drie experimenten met de meest interessante uitkomsten of waarvan de verwachtingen het hoogst waren, nader toegelicht in de experimenten 1 t/m 4. Per experiment en trainsessie zijn alle variabelen en de uitkomsten van het model vastgelegd in een Excel-overzicht. Bij de beschrijving van de verschillende experimenten zijn de gebruikte variabelen inclusief uitkomsten weergegeven.\n",
    "\n",
    "Daarnaast ben ik als onderdeel van de bonusopdracht de uitdaging aangegaan om een attention layer toe te voegen aan het RNN-model om zo de toegevoegde waarde van het RNN-model te beschrijven en te visualiseren. Dit experiment is beschreven in experiment 5."
   ]
  },
  {
   "cell_type": "markdown",
   "metadata": {},
   "source": [
    "### <span style=\"color:Green\">*Experiment 1: Batch Size*</span> \n",
    "\n",
    "Middels het experimenteren met de batch size heb ik geprobeerd om een optimum te vinden waarbij het model het beste presteert. Hierbij heb ik gekozen om de batch size per trainsessie te verdubbelen van een batch size met 16 observaties tot een batch size met 256 observaties. In onderstaande tabel zijn alle variabelen weergegeven die tijdens de trainsessies zijn toegepast inclusief de tijdsduur per trainsessie en de scores van het model:\n",
    "<img src=\"../figures/Experiment_1_Batch_Size.png\">\n",
    "\n",
    "Op basis van de uitkomsten blijkt dat het model het best presteert bij een batch size met 64 observaties. De F1-score en de loss/train blijft zich bij een hogere batch size nog wel ontwikkelen, echter verslechterd de loss/test bij een hogere batch size. Vooral het verschil dat ontstaat tussen de loss/test en de loss/train is kenmerkend dat het model begint te overfitten. Tot en met een batch size van 64 observaties blijft dit verschillen beperkt, echter vanaf een batch size van 128 obeservaties wordt het verschil steeds groter. Het model wordt namelijk goed in het herkennen van de voorbeelden in de trainset en bereikt daardoor een hoge score, echter op de testset met nieuwe voorbeelden blijven de prestaties achter. "
   ]
  },
  {
   "cell_type": "markdown",
   "metadata": {},
   "source": [
    "### <span style=\"color:Green\">*Experiment 2: Hidden Size*</span> \n",
    "\n",
    "Middels het experimenteren met de hidden size heb ik geprobeerd om te onderzoeken wat het effect van de hidden size is op de prestaties van het model. Mijn hypothese was dat het model bij een te grote hidden size zou gaan overfitten, omdat het model teveel gaat letten op de kleine details in de data en doordoor generiekere kenmerken mist. Bij een te kleine hidden size daarentegen worden onderscheidende kenmerken niet goed geïdentificeerd. In onderstaande tabel zijn alle variabelen weergegeven die tijdens de trainsessies zijn toegepast inclusief de tijdsduur per trainsessie en de scores van het model:\n",
    "<img src=\"../figures/Experiment_2_Hidden_Size.png\">\n",
    "\n",
    "Op basis van de uitkomsten blijkt dat het model het best presteert bij een hidden size van 128. Een betere score wordt nog behaald bij een hidden size van 1028, echter is het verschil tussen de loss/test en de loss/train dermate groot dat ik zou opteren voor de een hidden size van 128, zodat het model meer voorspelbaar presteert zonder dat daarbij het risico ontstaat op overfitting. "
   ]
  },
  {
   "cell_type": "markdown",
   "metadata": {},
   "source": [
    "### <span style=\"color:Green\">*Experiment 3: Epoch*</span>\n",
    "Op basis van de voorgaande experimenten bleek dat het model nog niet was uitgeleerd. Om die reden heb ik besloten om diverse experimenten te gaan uitvoeren waarbij het aantal epochs stapsgewijs worden vergroot. In onderstaande tabel zijn alle variabelen weergegeven die tijdens de trainsessies zijn toegepast inclusief de tijdsduur per trainsessie en de scores van het model: \n",
    "<img src=\"../figures/Experiment_3_Epoch.png\">\n",
    "\n",
    "Op basis van de uitkomsten van het model blijkt dat een hogere epoch slechts in beperkte mate invloed heeft op de prestaties van het model. De laagste lost/test score wordt bereikt bij een epoch van 25, echter zou mijn voorkeur uitgaan naar een epoch van 17 doordat het verschil tussen de loss/test en de loss/train bij dit epoch aantal beperkt blijft terwijl bij een epoch van 25 een aanzienlijk verschil onstaat. In onderstaande afbeelding zijn de uitkomsten weergegevan van trainsessie met 45 epochs:\n",
    "\n",
    "<img src=\"../figures/Experiment_3_Output.png\">\n",
    "\n",
    "Hieruit blijkt inderdaad dat de prestaties van het model (o.b.v. de loss/test, Accuracy en F1 score) na 17-20 epochs afzwakt of zelfs slechter gaat presteren terwijl de loss/train zich verder blijft verbeteren. Dit wordt veroorzaakt doordat het model bij een hogere epoch dezelfde voorbeelden krijgt aangeboden die het model herkent en daardoor een goede voorspelling kan geven. Opmerkelijk is dat de learning_rate gedurende de traincycles automatisch wordt aangepast. Deze aanpassing wordt veroorzaakt door de schedular die in het models is geïmplementeerd en ervoor zorgt dat de learning_rate wordt aangepast nadat het model onvoldoende leert na verloop van tijd.   \n"
   ]
  },
  {
   "cell_type": "markdown",
   "metadata": {},
   "source": [
    "### <span style=\"color:Green\">*Experiment 4: Optimizers & Learning rate*</span> \n",
    "\n",
    "Voor het laatste experiment met het RNN-model zonder Attention-Layer heb ik besloten om verschillende optimizers te testen met daarbij een wisselende learning rate. Eenzelfde soort experiment heb ik uitgevoerd op de MNIST-Fashion dataset waarbij de Adam, RMSprop en Adagrad optimizers nagenoeg gelijk presteerden. Doordat dit een ander type dataset betreft waarvoor een ander model wordt toegepast, verwacht ik andere uitkomsten tussen de verschillende modellen. In onderstaande tabel zijn alle variabelen weergegeven die tijdens de trainsessie zijn toegepast inclusief de tijdsduur per trainsessie en de scores van het model: \n",
    "<img src=\"../figures/Experiment_4_Optimizers.png\">\n",
    "\n",
    "Om de uitkomsten van dit experiment beter te visualiseren, heb ik besloten om voor de Loss/test, Accuracy, en F1-Score matrixen op te stellen waarin de uitkomsten zijn gevisualiseerd.\n",
    "\n",
    "#### Matrix Loss/Test\n",
    "<img src=\"../figures/Experiment_4_Output_Loss_Test.png\">\n",
    "\n",
    "#### Matrix Accuracy\n",
    "<img src=\"../figures/Experiment_4_Output_Accuracy.png\">\n",
    "\n",
    "#### Matrix F1-Score\n",
    "<img src=\"../figures/Experiment_4_Output_F1_Score.png\">\n",
    "\n",
    "\n",
    "Op basis van de hierboven weergegeven matrices blijkt dat wederom de optimizers Adam, RMSprop en Adagrad het best presteren, maar dat de optimizers zeer gevoelig zijn voor aanpassingen in de learning rate. Hieronder een korte analyse per optimizer.\n",
    "\n",
    "* Adam\n",
    "\n",
    "De optimizer Adam scoort overall het best. Een learning rate van 1,00E-02  resulteert in de hoogte score met een lost/test van 28%, een Accuracy van 89% en een F1-score van 87%. Bij een lagere learning rate scoort het model ronduit slecht.\n",
    "\n",
    "* SGD\n",
    "\n",
    "De optimizer SGD scoort het slechts van de vier geteste optimizers waarbij het model bij geen enkele learning rate in staat is om de data goed te classificeren, zelfs niet op basis van traindataset. De Loss/test uitkomsten tonen weinig variatie bij een wijziging van de learning rate.\n",
    "\n",
    "* Adagrad\n",
    "\n",
    "De Adagrad optimizer geeft bij een learning rate van 1,00E-01 de beste resultaten weer van de vier geteste optimizers en scoort bij een learning rate van 1,00E-02 zelf nog iets beter. Bij een learning rate van 1,00E-03 t/m 1,00E-05 scoort het model juist weer beduidend slechter.    \n",
    "\n",
    "* RMSprop\n",
    "\n",
    "De uitkomsten van de RMSprop optimizer zijn zeer wisselend. Bij een learning rate van 1,00E-01 presteert het model ondermaats, terwijl de optimizer bij een learning rate van 1,00E-02 t/m 1,00E-03 juist weer goed scoort met mooie resultaten. "
   ]
  },
  {
   "cell_type": "markdown",
   "metadata": {},
   "source": [
    "### <span style=\"color:Green\">*Experiment 5: RNN-model met attention layer*</span> \n",
    "\n",
    "Tijdens het laatste model is een experiment uitgevoerd waarbij het RRN-model is geupgrade met een attention layer. De code die is uitgebruikt voor dit experiment is hieronder weergegeven. "
   ]
  },
  {
   "cell_type": "code",
   "execution_count": 18,
   "metadata": {},
   "outputs": [],
   "source": [
    "from src.data import data_tools\n",
    "\n",
    "trainstreamer = data_tools.BaseDatastreamer(\n",
    "    dataset=traindataset, batchsize=64, preprocessor=preprocessor\n",
    ").stream()\n",
    "teststreamer = data_tools.BaseDatastreamer(\n",
    "    dataset=testdataset, batchsize=64, preprocessor=preprocessor\n",
    ").stream()"
   ]
  },
  {
   "cell_type": "code",
   "execution_count": 19,
   "metadata": {},
   "outputs": [],
   "source": [
    "log_dir = settings.log_dir\n",
    "from src.models import rnn\n",
    "\n",
    "config = {\n",
    "    \"vocab\": len(v),\n",
    "    \"hidden_size\": 128,\n",
    "    \"num_layers\": 3,\n",
    "    \"dropout\": 0.1,\n",
    "    \"output_size\": 4,\n",
    "}\n",
    "\n",
    "model = rnn.AttentionNLP(config)"
   ]
  },
  {
   "cell_type": "code",
   "execution_count": 20,
   "metadata": {},
   "outputs": [
    {
     "name": "stderr",
     "output_type": "stream",
     "text": [
      "2022-07-04 17:45:56.493 | INFO     | src.data.data_tools:dir_add_timestamp:67 - Logging to ../tune/20220704-1745\n",
      "100%|██████████| 25/25 [00:04<00:00,  6.17it/s]\n",
      "2022-07-04 17:46:01.949 | INFO     | src.training.train_model:trainloop:164 - Epoch 0 train 1.3208 test 0.9569 metric ['0.4834', '0.6388']\n",
      "100%|██████████| 25/25 [00:03<00:00,  6.31it/s]\n",
      "2022-07-04 17:46:07.294 | INFO     | src.training.train_model:trainloop:164 - Epoch 1 train 0.7701 test 0.7401 metric ['0.5839', '0.7656']\n",
      "100%|██████████| 25/25 [00:03<00:00,  6.97it/s]\n",
      "2022-07-04 17:46:12.221 | INFO     | src.training.train_model:trainloop:164 - Epoch 2 train 0.6406 test 0.5009 metric ['0.6898', '0.8387']\n",
      "100%|██████████| 25/25 [00:03<00:00,  6.83it/s]\n",
      "2022-07-04 17:46:17.397 | INFO     | src.training.train_model:trainloop:164 - Epoch 3 train 0.5297 test 0.5215 metric ['0.6440', '0.8281']\n",
      "100%|██████████| 25/25 [00:04<00:00,  5.65it/s]\n",
      "2022-07-04 17:46:23.095 | INFO     | src.training.train_model:trainloop:164 - Epoch 4 train 0.4564 test 0.4754 metric ['0.7354', '0.8506']\n",
      "100%|██████████| 25/25 [00:03<00:00,  7.15it/s]\n",
      "2022-07-04 17:46:27.909 | INFO     | src.training.train_model:trainloop:164 - Epoch 5 train 0.4615 test 0.4070 metric ['0.7391', '0.8638']\n",
      "100%|██████████| 25/25 [00:03<00:00,  6.29it/s]\n",
      "2022-07-04 17:46:33.259 | INFO     | src.training.train_model:trainloop:164 - Epoch 6 train 0.4221 test 0.3481 metric ['0.7948', '0.8894']\n",
      "100%|██████████| 25/25 [00:03<00:00,  6.54it/s]\n",
      "2022-07-04 17:46:38.315 | INFO     | src.training.train_model:trainloop:164 - Epoch 7 train 0.3907 test 0.3717 metric ['0.8127', '0.8819']\n",
      "100%|██████████| 25/25 [00:03<00:00,  7.18it/s]\n",
      "2022-07-04 17:46:43.232 | INFO     | src.training.train_model:trainloop:164 - Epoch 8 train 0.2887 test 0.3315 metric ['0.8191', '0.9012']\n",
      "100%|██████████| 25/25 [00:03<00:00,  7.14it/s]\n",
      "2022-07-04 17:46:48.075 | INFO     | src.training.train_model:trainloop:164 - Epoch 9 train 0.2836 test 0.3086 metric ['0.8553', '0.9006']\n",
      "100%|██████████| 25/25 [00:03<00:00,  6.68it/s]\n",
      "2022-07-04 17:46:53.178 | INFO     | src.training.train_model:trainloop:164 - Epoch 10 train 0.2726 test 0.3510 metric ['0.8005', '0.8862']\n",
      "100%|██████████| 25/25 [00:03<00:00,  7.19it/s]\n",
      "2022-07-04 17:46:57.908 | INFO     | src.training.train_model:trainloop:164 - Epoch 11 train 0.2820 test 0.3100 metric ['0.8356', '0.9006']\n",
      "100%|██████████| 25/25 [00:03<00:00,  6.36it/s]\n",
      "2022-07-04 17:47:03.034 | INFO     | src.training.train_model:trainloop:164 - Epoch 12 train 0.2551 test 0.3602 metric ['0.8272', '0.8869']\n",
      "100%|██████████| 25/25 [00:03<00:00,  6.80it/s]\n",
      "2022-07-04 17:47:07.975 | INFO     | src.training.train_model:trainloop:164 - Epoch 13 train 0.2719 test 0.3468 metric ['0.8282', '0.8919']\n",
      "100%|██████████| 25/25 [00:03<00:00,  7.31it/s]\n",
      "2022-07-04 17:47:12.786 | INFO     | src.training.train_model:trainloop:164 - Epoch 14 train 0.2274 test 0.3622 metric ['0.7987', '0.8750']\n",
      "100%|██████████| 25/25 [00:04<00:00,  5.87it/s]\n",
      "2022-07-04 17:47:18.347 | INFO     | src.training.train_model:trainloop:164 - Epoch 15 train 0.2553 test 0.3059 metric ['0.8211', '0.8944']\n",
      "100%|██████████| 25/25 [00:03<00:00,  6.46it/s]\n",
      "2022-07-04 17:47:23.361 | INFO     | src.training.train_model:trainloop:164 - Epoch 16 train 0.2053 test 0.3630 metric ['0.8416', '0.8938']\n",
      "100%|██████████| 25/25 [00:03<00:00,  6.72it/s]\n",
      "2022-07-04 17:47:28.278 | INFO     | src.training.train_model:trainloop:164 - Epoch 17 train 0.1011 test 0.3174 metric ['0.8462', '0.9044']\n",
      "100%|██████████| 25/25 [00:03<00:00,  6.42it/s]\n",
      "2022-07-04 17:47:33.437 | INFO     | src.training.train_model:trainloop:164 - Epoch 18 train 0.1373 test 0.3212 metric ['0.8349', '0.8994']\n",
      "100%|██████████| 25/25 [00:03<00:00,  6.99it/s]\n",
      "2022-07-04 17:47:38.242 | INFO     | src.training.train_model:trainloop:164 - Epoch 19 train 0.1299 test 0.3044 metric ['0.8376', '0.9069']\n",
      "100%|██████████| 25/25 [00:03<00:00,  7.40it/s]\n",
      "2022-07-04 17:47:42.863 | INFO     | src.training.train_model:trainloop:164 - Epoch 20 train 0.1485 test 0.3928 metric ['0.8082', '0.8806']\n",
      "100%|██████████| 25/25 [00:03<00:00,  6.89it/s]\n",
      "2022-07-04 17:47:47.740 | INFO     | src.training.train_model:trainloop:164 - Epoch 21 train 0.1640 test 0.3271 metric ['0.8450', '0.9050']\n",
      "100%|██████████| 25/25 [00:03<00:00,  6.98it/s]\n",
      "2022-07-04 17:47:52.536 | INFO     | src.training.train_model:trainloop:164 - Epoch 22 train 0.1470 test 0.3245 metric ['0.8315', '0.8962']\n",
      "100%|██████████| 25/25 [00:03<00:00,  6.84it/s]\n",
      "2022-07-04 17:47:57.399 | INFO     | src.training.train_model:trainloop:164 - Epoch 23 train 0.1545 test 0.3191 metric ['0.8306', '0.8944']\n",
      "100%|██████████| 25/25 [00:04<00:00,  6.23it/s]\n",
      "2022-07-04 17:48:02.749 | INFO     | src.training.train_model:trainloop:164 - Epoch 24 train 0.1674 test 0.3004 metric ['0.8627', '0.9131']\n",
      "100%|██████████| 25/25 [02:06<00:00,  5.05s/it]\n"
     ]
    }
   ],
   "source": [
    "from src.training import train_model\n",
    "\n",
    "model = train_model.trainloop(\n",
    "    epochs=25,\n",
    "    model=model,\n",
    "    metrics=metrics,\n",
    "    optimizer=torch.optim.Adam,\n",
    "    learning_rate=1e-2,\n",
    "    loss_fn=loss_fn,\n",
    "    train_dataloader=trainstreamer,\n",
    "    test_dataloader=teststreamer,\n",
    "    log_dir=log_dir,\n",
    "    train_steps=25,\n",
    "    eval_steps=25,\n",
    ")"
   ]
  },
  {
   "cell_type": "markdown",
   "metadata": {},
   "source": [
    "#### <span style=\"color:Green\">*Uitkomsten experiment*</span> \n",
    "\n",
    "Voor het RNN-model met attention layer zijn de meest succesvolle variabelen gebruikt op basis van de eerder beschreven experimenten. Doordat het model in eerste instantie slechter scoorde dat het RNN-model zónder attention layer, heb ik besloten om meerdere runs te draaien om een goede indruk te verkrijgen van het model. Doordat er gebruik wordt gemaakt van een streamer, wordt bij iedere run namelijk een andere dataset aangeboden waardoor het model, op basis van dezelfde variabelen, anders kan presteren.\n",
    "\n",
    "<img src=\"../figures/Experiment_5_Attention_Layer.png\">\n",
    "\n",
    "Op basis van bovenstaande uitkomsten is goed inzichtelijk dat het model een mooie score heeft behaald, maar op basis van de Loss/test score nog minder presteert dan het model zonder de attention layer.   Een mogelijke uitkomst hiervan kan zijn dat het model met attention layer andere variabelen nodig heeft om optimaal te presteren. Derhalve heb ik besloten om op basis van de ervaringen van de voorgaande analyse nog een vijftien-tal experimenten uit te voeren om een betere score te bereiken. In onderstaande tabel zijn alle variabelen weergegeven die tijdens de trainsessies zijn toegepast inclusief de tijdsduur per trainsessie en de scores van het model:\n",
    "\n",
    "<img src=\"../figures/Experiment_5_Attention_Layer_extra.png\">\n",
    "\n",
    "Kijkend naar de loss/test, accuracy en F1-score is het gelukt om het model nog net iets beter te laten presteren. De uitkomsten zijn in bovenstaande tabel in groen gemarkeerd.\n"
   ]
  },
  {
   "cell_type": "markdown",
   "metadata": {},
   "source": [
    "### <span style=\"color:Green\">*Conclusie*</span> \n",
    "\n",
    "De hiervoor beschreven experimenten heb ik als zeer leerzaam ervaren. Middels het handmatig 'tunen' van een model heb ik een goed beeld verkregen welke invloed parameters kunnen hebben op een model. Het gestructureerd vastleggen van de gebruikte parameters in combinatie met de visualisaties in TenserBoard zorgen ervoor dat de veranderingen in uitkomsten goed geïntepreteerd kunnen worden en daarbij beter kan worden bijgestuurd tijdens de experimenten. Vooral de uitkomsten van het experimenten met de learning rate en optimizers vond ik interessant doordat goed wordt weergegeven hoe gevoelig een model kan zijn voor kleine wijzigingen. Wel had ik verwacht dat het toevoegen van een attention layer een grotere impact zou hebben op de werking van het model. Een kleine disclaimer hierbij is dat ik heb gemerkt dat de uitkomsten van de experimenten tussentijds kunnen verschillen, doordat de input per run varieert."
   ]
  }
 ],
 "metadata": {
  "kernelspec": {
   "display_name": "Python 3.9.12 ('exam-22-DDG3aTJy-py3.9')",
   "language": "python",
   "name": "python3"
  },
  "language_info": {
   "codemirror_mode": {
    "name": "ipython",
    "version": 3
   },
   "file_extension": ".py",
   "mimetype": "text/x-python",
   "name": "python",
   "nbconvert_exporter": "python",
   "pygments_lexer": "ipython3",
   "version": "3.9.12"
  },
  "orig_nbformat": 4,
  "vscode": {
   "interpreter": {
    "hash": "3ef7eee7c1ffccdb050f8336de9a04a9ab88c4d3eb3bee3e0a27c87a184d1d38"
   }
  }
 },
 "nbformat": 4,
 "nbformat_minor": 2
}
